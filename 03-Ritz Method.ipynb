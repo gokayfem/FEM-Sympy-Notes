{
 "cells": [
  {
   "attachments": {
    "barFormulation.png": {
     "image/png": "[encoded data removed]"
    }
   },
   "cell_type": "markdown",
   "id": "7245239d",
   "metadata": {},
   "source": [
    "![barFormulation.png](attachment:barFormulation.png)"
   ]
  },
  {
   "cell_type": "markdown",
   "id": "762006e9",
   "metadata": {},
   "source": [
    "\n",
    "\n",
    "$$\n",
    "\\frac{\\partial }{\\partial x} \\left[ EA \\frac{\\partial u}{\\partial x} \\right] = 0\n",
    "$$\n",
    "\n",
    "$$\n",
    "u(0) = 0 \n",
    "$$\n",
    "\n",
    "$$\n",
    "EA(L) \\frac{\\partial u}{\\partial x} \\bigg\\rvert_{L} = P\n",
    "$$"
   ]
  },
  {
   "cell_type": "code",
   "execution_count": 1,
   "id": "266f28b8",
   "metadata": {},
   "outputs": [],
   "source": [
    "import sympy as sp\n",
    "import numpy as np\n",
    "import matplotlib.pyplot as plt"
   ]
  },
  {
   "cell_type": "code",
   "execution_count": 2,
   "id": "54ef3d4b",
   "metadata": {},
   "outputs": [
    {
     "data": {
      "text/latex": [
       "$\\displaystyle \\operatorname{u_{1}}{\\left(x \\right)} = \\frac{2 L P \\log{\\left(- L \\right)}}{A_{0} E} - \\frac{2 L P \\log{\\left(- 2 L + x \\right)}}{A_{0} E} + \\frac{2 L P \\log{\\left(2 \\right)}}{A_{0} E}$"
      ],
      "text/plain": [
       "Eq(u1(x), 2*L*P*log(-L)/(A0*E) - 2*L*P*log(-2*L + x)/(A0*E) + 2*L*P*log(2)/(A0*E))"
      ]
     },
     "execution_count": 2,
     "metadata": {},
     "output_type": "execute_result"
    }
   ],
   "source": [
    "x = sp.symbols('x')\n",
    "u1 = sp.Function('u1')(x)\n",
    "L = sp.symbols('L')\n",
    "E = sp.symbols('E')\n",
    "P = sp.symbols('P')\n",
    "A0 = sp.symbols('A0')\n",
    "A = A0 * (1-x/(2*L))\n",
    "\n",
    "diffeq = sp.diff(E*A*sp.diff(u1,x),x)\n",
    "ic1 = u1.subs(x,0)\n",
    "ic2 = sp.diff(u1,x).subs(x,L)\n",
    "sol = sp.dsolve(diffeq, ics={ic1: 0,ic2:P/(E*A.subs(x,L))})\n",
    "sol"
   ]
  },
  {
   "cell_type": "code",
   "execution_count": 3,
   "id": "fb473200",
   "metadata": {},
   "outputs": [],
   "source": [
    "sol_rhs = sol.rhs"
   ]
  },
  {
   "cell_type": "code",
   "execution_count": 4,
   "id": "47cb0516",
   "metadata": {},
   "outputs": [
    {
     "data": {
      "text/latex": [
       "$\\displaystyle 2 \\log{\\left(2 \\right)}$"
      ],
      "text/plain": [
       "2*log(2)"
      ]
     },
     "execution_count": 4,
     "metadata": {},
     "output_type": "execute_result"
    }
   ],
   "source": [
    "u_analytic = sol_rhs.subs({x:1,L:1,P:1,E:1,A0:1})\n",
    "u_analytic"
   ]
  },
  {
   "cell_type": "code",
   "execution_count": 5,
   "id": "c8e341cd",
   "metadata": {},
   "outputs": [
    {
     "data": {
      "text/latex": [
       "$\\displaystyle 1.38629436111989$"
      ],
      "text/plain": [
       "1.38629436111989"
      ]
     },
     "execution_count": 5,
     "metadata": {},
     "output_type": "execute_result"
    }
   ],
   "source": [
    "sp.N(u_analytic)"
   ]
  },
  {
   "cell_type": "code",
   "execution_count": 6,
   "id": "98520832",
   "metadata": {},
   "outputs": [
    {
     "data": {
      "text/latex": [
       "$\\displaystyle c_{0} + c_{1} x$"
      ],
      "text/plain": [
       "c0 + c1*x"
      ]
     },
     "execution_count": 6,
     "metadata": {},
     "output_type": "execute_result"
    }
   ],
   "source": [
    "consts = dict()\n",
    "def u(n):\n",
    "    temp = 0\n",
    "    for i in range(n+1):\n",
    "        consts[f'c{i}'] = sp.symbols(f'c{i}')\n",
    "        temp += consts[f'c{i}']*x**i\n",
    "    return temp    \n",
    "\n",
    "uh = u(1) \n",
    "uh"
   ]
  },
  {
   "cell_type": "code",
   "execution_count": 7,
   "id": "577ad226",
   "metadata": {},
   "outputs": [
    {
     "data": {
      "text/latex": [
       "$\\displaystyle 0$"
      ],
      "text/plain": [
       "0"
      ]
     },
     "execution_count": 7,
     "metadata": {},
     "output_type": "execute_result"
    }
   ],
   "source": [
    "c0 = sp.solve(uh.subs(x,0),consts['c0'])[0]\n",
    "c0"
   ]
  },
  {
   "cell_type": "code",
   "execution_count": 8,
   "id": "b3dd7f32",
   "metadata": {},
   "outputs": [
    {
     "data": {
      "text/latex": [
       "$\\displaystyle c_{1} x$"
      ],
      "text/plain": [
       "c1*x"
      ]
     },
     "execution_count": 8,
     "metadata": {},
     "output_type": "execute_result"
    }
   ],
   "source": [
    "uh = uh.subs(consts['c0'],c0)\n",
    "uh"
   ]
  },
  {
   "cell_type": "code",
   "execution_count": 9,
   "id": "c0eb49b3",
   "metadata": {},
   "outputs": [
    {
     "data": {
      "text/latex": [
       "$\\displaystyle \\frac{3 A_{0} E L c_{1}^{2}}{8} - P c_{1} x$"
      ],
      "text/plain": [
       "3*A0*E*L*c1**2/8 - P*c1*x"
      ]
     },
     "execution_count": 9,
     "metadata": {},
     "output_type": "execute_result"
    }
   ],
   "source": [
    "I = sp.integrate(E*A/2*uh.diff(x)**2,(x,0,L))-P*uh\n",
    "I"
   ]
  },
  {
   "cell_type": "code",
   "execution_count": 10,
   "id": "bd6aed48",
   "metadata": {},
   "outputs": [
    {
     "data": {
      "text/latex": [
       "$\\displaystyle \\frac{4 P x}{3 A_{0} E L}$"
      ],
      "text/plain": [
       "4*P*x/(3*A0*E*L)"
      ]
     },
     "execution_count": 10,
     "metadata": {},
     "output_type": "execute_result"
    }
   ],
   "source": [
    "sol2 = sp.solve(I.diff(consts['c1']),consts['c1'])[0]\n",
    "sol2"
   ]
  },
  {
   "cell_type": "code",
   "execution_count": 11,
   "id": "db85558d",
   "metadata": {},
   "outputs": [
    {
     "data": {
      "text/latex": [
       "$\\displaystyle \\frac{4 P x^{2}}{3 A_{0} E L}$"
      ],
      "text/plain": [
       "4*P*x**2/(3*A0*E*L)"
      ]
     },
     "execution_count": 11,
     "metadata": {},
     "output_type": "execute_result"
    }
   ],
   "source": [
    "u_app = uh.subs(consts['c1'],sol2)\n",
    "u_app"
   ]
  },
  {
   "cell_type": "code",
   "execution_count": 12,
   "id": "8aaedf9b",
   "metadata": {},
   "outputs": [
    {
     "data": {
      "text/latex": [
       "$\\displaystyle 1.33333333333333$"
      ],
      "text/plain": [
       "1.33333333333333"
      ]
     },
     "execution_count": 12,
     "metadata": {},
     "output_type": "execute_result"
    }
   ],
   "source": [
    "u_bir = u_app.subs(x,L).subs({L:1,A0:1,E:1,P:1})\n",
    "sp.N(u_bir)"
   ]
  },
  {
   "cell_type": "code",
   "execution_count": 13,
   "id": "7b666949",
   "metadata": {},
   "outputs": [
    {
     "data": {
      "text/latex": [
       "$\\displaystyle c_{0} + c_{1} x + c_{2} x^{2}$"
      ],
      "text/plain": [
       "c0 + c1*x + c2*x**2"
      ]
     },
     "execution_count": 13,
     "metadata": {},
     "output_type": "execute_result"
    }
   ],
   "source": [
    "consts = dict()\n",
    "def u(n):\n",
    "    temp = 0\n",
    "    for i in range(n+1):\n",
    "        consts[f'c{i}'] = sp.symbols(f'c{i}')\n",
    "        temp += consts[f'c{i}']*x**i\n",
    "    return temp    \n",
    "\n",
    "uh = u(2) \n",
    "uh"
   ]
  },
  {
   "cell_type": "code",
   "execution_count": 14,
   "id": "d2623790",
   "metadata": {},
   "outputs": [
    {
     "data": {
      "text/latex": [
       "$\\displaystyle 0$"
      ],
      "text/plain": [
       "0"
      ]
     },
     "execution_count": 14,
     "metadata": {},
     "output_type": "execute_result"
    }
   ],
   "source": [
    "c0 = sp.solve(uh.subs(x,0),consts['c0'])[0]\n",
    "c0"
   ]
  },
  {
   "cell_type": "code",
   "execution_count": 15,
   "id": "ef9d5fa9",
   "metadata": {},
   "outputs": [
    {
     "data": {
      "text/latex": [
       "$\\displaystyle c_{1} x + c_{2} x^{2}$"
      ],
      "text/plain": [
       "c1*x + c2*x**2"
      ]
     },
     "execution_count": 15,
     "metadata": {},
     "output_type": "execute_result"
    }
   ],
   "source": [
    "uh = uh.subs(consts['c0'],c0)\n",
    "uh"
   ]
  },
  {
   "cell_type": "code",
   "execution_count": 16,
   "id": "1adbf570",
   "metadata": {},
   "outputs": [
    {
     "data": {
      "text/latex": [
       "$\\displaystyle - \\frac{A_{0} E L^{3} c_{2}^{2}}{4} + \\frac{A_{0} E L c_{1}^{2}}{2} + \\frac{L^{2} \\cdot \\left(2 A_{0} E L c_{2}^{2} - A_{0} E c_{1} c_{2}\\right)}{3} + \\frac{L \\left(8 A_{0} E L c_{1} c_{2} - A_{0} E c_{1}^{2}\\right)}{8} - P \\left(c_{1} x + c_{2} x^{2}\\right)$"
      ],
      "text/plain": [
       "-A0*E*L**3*c2**2/4 + A0*E*L*c1**2/2 + L**2*(2*A0*E*L*c2**2 - A0*E*c1*c2)/3 + L*(8*A0*E*L*c1*c2 - A0*E*c1**2)/8 - P*(c1*x + c2*x**2)"
      ]
     },
     "execution_count": 16,
     "metadata": {},
     "output_type": "execute_result"
    }
   ],
   "source": [
    "I = sp.integrate(E*A/2*uh.diff(x)**2,(x,0,L))-P*uh\n",
    "I"
   ]
  },
  {
   "cell_type": "code",
   "execution_count": 17,
   "id": "b5ece6d9",
   "metadata": {},
   "outputs": [
    {
     "data": {
      "text/plain": [
       "{c1: (60*L*P*x - 48*P*x**2)/(13*A0*E*L**2),\n",
       " c2: (-48*L*P*x + 54*P*x**2)/(13*A0*E*L**3)}"
      ]
     },
     "execution_count": 17,
     "metadata": {},
     "output_type": "execute_result"
    }
   ],
   "source": [
    "sol2 = sp.solve((I.diff(consts['c1']),I.diff(consts['c2'])),consts['c1'],consts['c2'])\n",
    "sol2"
   ]
  },
  {
   "cell_type": "code",
   "execution_count": 18,
   "id": "91568504",
   "metadata": {},
   "outputs": [
    {
     "data": {
      "text/latex": [
       "$\\displaystyle \\frac{x \\left(60 L P x - 48 P x^{2}\\right)}{13 A_{0} E L^{2}} + \\frac{x^{2} \\left(- 48 L P x + 54 P x^{2}\\right)}{13 A_{0} E L^{3}}$"
      ],
      "text/plain": [
       "x*(60*L*P*x - 48*P*x**2)/(13*A0*E*L**2) + x**2*(-48*L*P*x + 54*P*x**2)/(13*A0*E*L**3)"
      ]
     },
     "execution_count": 18,
     "metadata": {},
     "output_type": "execute_result"
    }
   ],
   "source": [
    "u_app = uh.subs(sol2)\n",
    "u_app"
   ]
  },
  {
   "cell_type": "code",
   "execution_count": 19,
   "id": "4f04fee9",
   "metadata": {},
   "outputs": [
    {
     "data": {
      "text/latex": [
       "$\\displaystyle 1.38461538461538$"
      ],
      "text/plain": [
       "1.38461538461538"
      ]
     },
     "execution_count": 19,
     "metadata": {},
     "output_type": "execute_result"
    }
   ],
   "source": [
    "u_iki = u_app.subs(x,L).subs({L:1,A0:1,E:1,P:1})\n",
    "sp.N(u_iki)"
   ]
  },
  {
   "cell_type": "code",
   "execution_count": 20,
   "id": "8844202e",
   "metadata": {},
   "outputs": [
    {
     "name": "stdout",
     "output_type": "stream",
     "text": [
      "fark1 : 0.0529610277865573\n",
      "fark2 : 0.00167897650450599\n"
     ]
    }
   ],
   "source": [
    "fark1 = sp.N(u_analytic) - sp.N(u_bir)\n",
    "fark2 = sp.N(u_analytic) - sp.N(u_iki)\n",
    "print(f\"fark1 : {fark1}\")\n",
    "print(f\"fark2 : {fark2}\")"
   ]
  }
 ],
 "metadata": {
  "kernelspec": {
   "display_name": "Python 3 (ipykernel)",
   "language": "python",
   "name": "python3"
  },
  "language_info": {
   "codemirror_mode": {
    "name": "ipython",
    "version": 3
   },
   "file_extension": ".py",
   "mimetype": "text/x-python",
   "name": "python",
   "nbconvert_exporter": "python",
   "pygments_lexer": "ipython3",
   "version": "3.9.12"
  }
 },
 "nbformat": 4,
 "nbformat_minor": 5
}
