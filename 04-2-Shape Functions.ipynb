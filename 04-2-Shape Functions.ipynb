{
 "cells": [
  {
   "attachments": {
    "full3nodeEl.png": {
     "image/png": "[encoded data removed]"
    }
   },
   "cell_type": "markdown",
   "id": "a996a0c7",
   "metadata": {},
   "source": [
    "![full3nodeEl.png](attachment:full3nodeEl.png)"
   ]
  },
  {
   "cell_type": "code",
   "execution_count": 7,
   "id": "a8978f5a",
   "metadata": {},
   "outputs": [
    {
     "data": {
      "text/latex": [
       "$\\displaystyle \\left[\\begin{matrix}1 & x & x^{2}\\end{matrix}\\right]$"
      ],
      "text/plain": [
       "Matrix([[1, x, x**2]])"
      ]
     },
     "execution_count": 7,
     "metadata": {},
     "output_type": "execute_result"
    }
   ],
   "source": [
    "import sympy as sp\n",
    "import numpy as np\n",
    "import matplotlib.pyplot as plt\n",
    "\n",
    "x = sp.symbols('x')\n",
    "L = sp.symbols('L')\n",
    "\n",
    "coordinates1 = [[0],\n",
    "              [L/2],\n",
    "              [L]]\n",
    "\n",
    "X = sp.Matrix([1,x,x**2]).T\n",
    "X"
   ]
  },
  {
   "cell_type": "code",
   "execution_count": 8,
   "id": "f61bcad8",
   "metadata": {},
   "outputs": [
    {
     "data": {
      "text/latex": [
       "$\\displaystyle \\left[\\begin{matrix}1 & 0 & 0\\\\1 & \\frac{L}{2} & \\frac{L^{2}}{4}\\\\1 & L & L^{2}\\end{matrix}\\right]$"
      ],
      "text/plain": [
       "Matrix([\n",
       "[1,   0,      0],\n",
       "[1, L/2, L**2/4],\n",
       "[1,   L,   L**2]])"
      ]
     },
     "execution_count": 8,
     "metadata": {},
     "output_type": "execute_result"
    }
   ],
   "source": [
    "A1 = sp.Matrix([[X.subs({x:coor[0]})] for coor in coordinates1])\n",
    "A1"
   ]
  },
  {
   "cell_type": "code",
   "execution_count": 9,
   "id": "de233200",
   "metadata": {},
   "outputs": [
    {
     "data": {
      "text/latex": [
       "$\\displaystyle \\left[\\begin{matrix}1 - \\frac{3 x}{L} + \\frac{2 x^{2}}{L^{2}} & \\frac{4 x}{L} - \\frac{4 x^{2}}{L^{2}} & - \\frac{x}{L} + \\frac{2 x^{2}}{L^{2}}\\end{matrix}\\right]$"
      ],
      "text/plain": [
       "Matrix([[1 - 3*x/L + 2*x**2/L**2, 4*x/L - 4*x**2/L**2, -x/L + 2*x**2/L**2]])"
      ]
     },
     "execution_count": 9,
     "metadata": {},
     "output_type": "execute_result"
    }
   ],
   "source": [
    "N1 = X @ A1.inv()\n",
    "N1"
   ]
  },
  {
   "attachments": {
    "midnode3El.png": {
     "image/png": "[encoded data removed]"
    }
   },
   "cell_type": "markdown",
   "id": "e9fd42a6",
   "metadata": {},
   "source": [
    "![midnode3El.png](attachment:midnode3El.png)"
   ]
  },
  {
   "cell_type": "code",
   "execution_count": 10,
   "id": "69260e13",
   "metadata": {},
   "outputs": [
    {
     "data": {
      "text/latex": [
       "$\\displaystyle \\left[\\begin{matrix}1 & - \\frac{L}{2} & \\frac{L^{2}}{4}\\\\1 & 0 & 0\\\\1 & \\frac{L}{2} & \\frac{L^{2}}{4}\\end{matrix}\\right]$"
      ],
      "text/plain": [
       "Matrix([\n",
       "[1, -L/2, L**2/4],\n",
       "[1,    0,      0],\n",
       "[1,  L/2, L**2/4]])"
      ]
     },
     "execution_count": 10,
     "metadata": {},
     "output_type": "execute_result"
    }
   ],
   "source": [
    "coordinates2 = [[-L/2],\n",
    "              [0],\n",
    "              [L/2]]\n",
    "A2 = sp.Matrix([[X.subs({x:coor[0]})] for coor in coordinates2])\n",
    "A2"
   ]
  },
  {
   "cell_type": "code",
   "execution_count": 11,
   "id": "fd26a33a",
   "metadata": {},
   "outputs": [
    {
     "data": {
      "text/latex": [
       "$\\displaystyle \\left[\\begin{matrix}- \\frac{x}{L} + \\frac{2 x^{2}}{L^{2}} & 1 - \\frac{4 x^{2}}{L^{2}} & \\frac{x}{L} + \\frac{2 x^{2}}{L^{2}}\\end{matrix}\\right]$"
      ],
      "text/plain": [
       "Matrix([[-x/L + 2*x**2/L**2, 1 - 4*x**2/L**2, x/L + 2*x**2/L**2]])"
      ]
     },
     "execution_count": 11,
     "metadata": {},
     "output_type": "execute_result"
    }
   ],
   "source": [
    "N2 = X @ A2.inv()\n",
    "N2"
   ]
  }
 ],
 "metadata": {
  "kernelspec": {
   "display_name": "Python 3 (ipykernel)",
   "language": "python",
   "name": "python3"
  },
  "language_info": {
   "codemirror_mode": {
    "name": "ipython",
    "version": 3
   },
   "file_extension": ".py",
   "mimetype": "text/x-python",
   "name": "python",
   "nbconvert_exporter": "python",
   "pygments_lexer": "ipython3",
   "version": "3.9.12"
  }
 },
 "nbformat": 4,
 "nbformat_minor": 5
}
