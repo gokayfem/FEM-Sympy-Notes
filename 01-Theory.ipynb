{
 "cells": [
  {
   "cell_type": "markdown",
   "id": "9484f078",
   "metadata": {},
   "source": [
    "# Integration By Parts\n",
    "\n",
    "$$\n",
    "\\frac{d (w v)}{d x} = \\frac{d w}{d x} v + w \\frac{dv}{d x} \n",
    "$$\n",
    "\n",
    "$$\n",
    "w \\frac{dv}{d x} =  \\frac{d (w v)}{d x} - \\frac{d w}{d x} v  \n",
    "$$\n",
    "\n",
    "$$\n",
    "\\int_{b}^{a} w \\frac{d v}{d x} dx = \\int_{b}^{a} \\frac{d (w v)}{d x} - \\frac{d w}{d x} v dx = \\int_{b}^{a} \\frac{d (w v)}{d x} dx - \\int_{b}^{a} \\frac{d w}{d x} v dx\n",
    "$$\n",
    "\n",
    "$$\n",
    "\\int_{b}^{a} w \\frac{d v}{d x} dx = w v\\bigg\\rvert_{a}^{b} - \\int_{b}^{a} \\frac{d w}{d x} v dx \n",
    "$$"
   ]
  },
  {
   "cell_type": "markdown",
   "id": "17332586",
   "metadata": {},
   "source": [
    "## Higher order Integration by Parts\n",
    "\n",
    "$$\n",
    "\\int_{b}^{a} w \\frac{d^2 u}{d x^2} dx = \\int_{b}^{a} w \\frac{d }{d x} \\left[ \\frac{d u}{d x} \\right] dx = \\int_{b}^{a} w \\frac{d v}{d x} dx\n",
    "$$\n",
    "\n",
    "$$\n",
    "v = \\frac{d u}{d x}\n",
    "$$\n",
    "\n",
    "$$\n",
    "\\int_{b}^{a} w \\frac{d^2 u}{d x^2} dx = - \\int_{b}^{a} v \\frac{d w}{d x} dx + w(b)v(b) - w(a)v(a)\n",
    "$$\n",
    "\n",
    "$$\n",
    "\\int_{b}^{a} w \\frac{d^2 u}{d x^2} dx = - \\int_{b}^{a} \\frac{d u}{d x} \\frac{d w}{d x} dx + w(b)\\frac{d u}{d x}\\bigg\\rvert_{b} - w(a)\\frac{d u}{d x}\\bigg\\rvert_{a}\n",
    "$$\n",
    "\n",
    "$$\n",
    "- \\int_{b}^{a} \\frac{d u}{d x} \\frac{d w}{d x} dx = \\int_{b}^{a} w \\frac{d^2 u}{d x^2} dx - w(b)\\frac{d u}{d x}\\bigg\\rvert_{b} + w(a)\\frac{d u}{d x}\\bigg\\rvert_{a}\n",
    "$$"
   ]
  },
  {
   "cell_type": "markdown",
   "id": "0c4542ae",
   "metadata": {},
   "source": [
    "# Weak Form\n",
    "\n",
    "## Example"
   ]
  },
  {
   "cell_type": "markdown",
   "id": "10a61b44",
   "metadata": {},
   "source": [
    "\n",
    "$$\n",
    "- \\frac{\\partial }{\\partial x} \\left[ a(x) \\frac{\\partial u}{\\partial x} \\right] = f(x)\n",
    "$$\n",
    "\n",
    "$$\n",
    "x \\in [0,L]\n",
    "$$\n",
    "\n",
    "$$\n",
    "u(0)=u_0, a(L) \\frac{\\partial u}{\\partial x}\\bigg\\rvert_{L} = Q_L\n",
    "$$\n",
    "\n"
   ]
  },
  {
   "cell_type": "markdown",
   "id": "89baed8c",
   "metadata": {},
   "source": [
    "### Step 1\n",
    "\n",
    "#### Multiply with arbitrary function then integrate on domain\n",
    "\n",
    "$$\n",
    "\\int_{0}^{L} \\left[- \\frac{\\partial }{\\partial x} \\left[ a(x) \\frac{\\partial u}{\\partial x} \\right] -f(x)\\right] \\delta u dx = 0 \n",
    "$$"
   ]
  },
  {
   "cell_type": "markdown",
   "id": "cf1a849f",
   "metadata": {},
   "source": [
    "### Step 2\n",
    "\n",
    "#### Integrate by parts to move the derivative to the arbitrary function"
   ]
  },
  {
   "cell_type": "markdown",
   "id": "4f707700",
   "metadata": {},
   "source": [
    "$$\n",
    "\\int_{0}^{L}  \\left[ a(x) \\frac{\\partial (\\delta u)}{\\partial x}  \\frac{\\partial u}{\\partial x} -(\\delta u) f(x)\\right] dx -  (\\delta u) a(x) \\frac{\\partial u}{\\partial x}\\bigg\\rvert_{0}^{L}  = 0 \n",
    "$$"
   ]
  },
  {
   "cell_type": "markdown",
   "id": "b57aaac5",
   "metadata": {},
   "source": [
    "### Step 3\n",
    "\n",
    "#### Impose the boundary conditions\n",
    "\n",
    "$$\n",
    "\\int_{0}^{L}  \\left[ a(x) \\frac{\\partial (\\delta u)}{\\partial x}  \\frac{\\partial u}{\\partial x} -(\\delta u) f(x)\\right] dx - \\delta u(L) Q_L  = 0 \n",
    "$$"
   ]
  },
  {
   "cell_type": "markdown",
   "id": "fc71c953",
   "metadata": {},
   "source": [
    "### This is called Weak Form or Variational Form\n",
    "\n",
    "#### There are two parts\n",
    "\n",
    "Bilinear term\n",
    "$$\n",
    "B(\\delta u,u) = \\int_{0}^{L} a(x) \\frac{\\partial (\\delta u)}{\\partial x}  \\frac{\\partial u}{\\partial x} dx\n",
    "$$\n",
    "\n",
    "Linear term\n",
    "$$\n",
    "l(\\delta u) = \\int_{0}^{L} (\\delta u) f(x) dx - \\delta u(L) Q_L\n",
    "$$"
   ]
  },
  {
   "cell_type": "markdown",
   "id": "077ef8f6",
   "metadata": {},
   "source": [
    "### Variational Problem\n",
    "\n",
    "$$\n",
    "B(\\delta u,u) = l(\\delta u)\n",
    "$$\n",
    "\n",
    "$$\n",
    "B(\\delta u,u) = \\frac{1}{2} \\delta B(u,u)\n",
    "$$\n",
    "\n",
    "$$\n",
    "l(\\delta u) = \\delta l(u) \n",
    "$$\n",
    "\n",
    "$$\n",
    "\\frac{1}{2} \\delta B(u,u) - \\delta l(u) = \\delta I(u) = 0\n",
    "$$\n",
    "\n",
    "$$\n",
    "I(u) = \\frac{1}{2}  B(u,u) -  l(u)\n",
    "$$"
   ]
  },
  {
   "cell_type": "markdown",
   "id": "cd080ba3",
   "metadata": {},
   "source": [
    "### u assumption\n",
    "\n",
    "$$\n",
    "u \\approx u^h = \\sum_{j=1}^{n} c_j \\phi_j(x)\n",
    "$$"
   ]
  },
  {
   "cell_type": "markdown",
   "id": "9827a297",
   "metadata": {},
   "source": [
    "Inserting $u_h$ to $I(u)$\n",
    "\n",
    "Then for every $c_j$ we take the derivative and make it zero.\n",
    "\n",
    "$$\\frac{\\partial I(u_h)}{\\partial c_j} = 0$$"
   ]
  },
  {
   "cell_type": "markdown",
   "id": "a898649c",
   "metadata": {},
   "source": [
    "#### Conditions when choosing $\\phi_j$ \n",
    "\n",
    "<ul>\n",
    "  <li>Must satisfy essential boundary conditions</li>\n",
    "  <li>Has to have proper continuity requirement</li>\n",
    "  <li>Must be a complete set</li>\n",
    "    <ul>\n",
    "      <li>${x,x^2,x^3,x^4}$</li>\n",
    "      <li>${x,y,xy,x^2y,xy^2,x^2y^2}$</li>\n",
    "      <li>${x,x^3,x^5}$ (Not a complete set)</li> \n",
    "    </ul>\n",
    "  <li>Use polynomials</li>\n",
    "</ul>\n"
   ]
  }
 ],
 "metadata": {
  "kernelspec": {
   "display_name": "Python 3 (ipykernel)",
   "language": "python",
   "name": "python3"
  },
  "language_info": {
   "codemirror_mode": {
    "name": "ipython",
    "version": 3
   },
   "file_extension": ".py",
   "mimetype": "text/x-python",
   "name": "python",
   "nbconvert_exporter": "python",
   "pygments_lexer": "ipython3",
   "version": "3.9.12"
  }
 },
 "nbformat": 4,
 "nbformat_minor": 5
}
