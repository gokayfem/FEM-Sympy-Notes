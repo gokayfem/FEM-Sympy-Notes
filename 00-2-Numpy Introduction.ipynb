{
 "cells": [
  {
   "cell_type": "code",
   "execution_count": 1,
   "id": "0cc9fdcb",
   "metadata": {},
   "outputs": [
    {
     "data": {
      "text/plain": [
       "array([3, 4])"
      ]
     },
     "execution_count": 1,
     "metadata": {},
     "output_type": "execute_result"
    }
   ],
   "source": [
    "import numpy as np\n",
    "\n",
    "a = np.array([3,4])\n",
    "a"
   ]
  },
  {
   "cell_type": "code",
   "execution_count": 2,
   "id": "756748e1",
   "metadata": {},
   "outputs": [
    {
     "data": {
      "text/plain": [
       "array([[1, 5],\n",
       "       [5, 4]])"
      ]
     },
     "execution_count": 2,
     "metadata": {},
     "output_type": "execute_result"
    }
   ],
   "source": [
    "b = np.array([[1,5],[5,4]])\n",
    "b"
   ]
  },
  {
   "cell_type": "code",
   "execution_count": 3,
   "id": "1bb08ee3",
   "metadata": {},
   "outputs": [
    {
     "data": {
      "text/plain": [
       "((2,), (2, 2))"
      ]
     },
     "execution_count": 3,
     "metadata": {},
     "output_type": "execute_result"
    }
   ],
   "source": [
    "a.shape,b.shape"
   ]
  },
  {
   "cell_type": "code",
   "execution_count": 4,
   "id": "99427dc1",
   "metadata": {},
   "outputs": [
    {
     "data": {
      "text/plain": [
       "array([[3, 4]])"
      ]
     },
     "execution_count": 4,
     "metadata": {},
     "output_type": "execute_result"
    }
   ],
   "source": [
    "a.reshape(1,2)"
   ]
  },
  {
   "cell_type": "code",
   "execution_count": 5,
   "id": "2b7689c8",
   "metadata": {},
   "outputs": [
    {
     "data": {
      "text/plain": [
       "array([3, 4])"
      ]
     },
     "execution_count": 5,
     "metadata": {},
     "output_type": "execute_result"
    }
   ],
   "source": [
    "a.reshape(1,2).flatten()"
   ]
  },
  {
   "cell_type": "code",
   "execution_count": 6,
   "id": "7c14f81d",
   "metadata": {},
   "outputs": [
    {
     "data": {
      "text/plain": [
       "array([3, 4])"
      ]
     },
     "execution_count": 6,
     "metadata": {},
     "output_type": "execute_result"
    }
   ],
   "source": [
    "a.reshape(1,2)[0]"
   ]
  },
  {
   "cell_type": "code",
   "execution_count": 7,
   "id": "5a1d541d",
   "metadata": {},
   "outputs": [
    {
     "data": {
      "text/plain": [
       "array([[23, 43, 11],\n",
       "       [33, 32, 11],\n",
       "       [ 4,  5,  3]])"
      ]
     },
     "execution_count": 7,
     "metadata": {},
     "output_type": "execute_result"
    }
   ],
   "source": [
    "M = np.array([[23,43,11],[33,32,11],[4,5,3]])\n",
    "M"
   ]
  },
  {
   "cell_type": "code",
   "execution_count": 8,
   "id": "f1a5a27c",
   "metadata": {},
   "outputs": [
    {
     "data": {
      "text/plain": [
       "array([[1, 5, 6],\n",
       "       [2, 6, 4]])"
      ]
     },
     "execution_count": 8,
     "metadata": {},
     "output_type": "execute_result"
    }
   ],
   "source": [
    "N = np.array([[1,5,6],[2,6,4]])\n",
    "N"
   ]
  },
  {
   "cell_type": "code",
   "execution_count": 9,
   "id": "839410ba",
   "metadata": {},
   "outputs": [
    {
     "data": {
      "text/plain": [
       "array([[212, 233,  84],\n",
       "       [260, 298, 100]])"
      ]
     },
     "execution_count": 9,
     "metadata": {},
     "output_type": "execute_result"
    }
   ],
   "source": [
    "N @ M"
   ]
  },
  {
   "cell_type": "code",
   "execution_count": 10,
   "id": "0c09adc3",
   "metadata": {},
   "outputs": [
    {
     "data": {
      "text/plain": [
       "array([[212, 233,  84],\n",
       "       [260, 298, 100]])"
      ]
     },
     "execution_count": 10,
     "metadata": {},
     "output_type": "execute_result"
    }
   ],
   "source": [
    "np.matmul(N,M)"
   ]
  },
  {
   "cell_type": "code",
   "execution_count": 11,
   "id": "671f3df3",
   "metadata": {},
   "outputs": [
    {
     "ename": "ValueError",
     "evalue": "matmul: Input operand 1 has a mismatch in its core dimension 0, with gufunc signature (n?,k),(k,m?)->(n?,m?) (size 2 is different from 3)",
     "output_type": "error",
     "traceback": [
      "\u001b[1;31m---------------------------------------------------------------------------\u001b[0m",
      "\u001b[1;31mValueError\u001b[0m                                Traceback (most recent call last)",
      "Input \u001b[1;32mIn [11]\u001b[0m, in \u001b[0;36m<cell line: 1>\u001b[1;34m()\u001b[0m\n\u001b[1;32m----> 1\u001b[0m \u001b[43mM\u001b[49m\u001b[43m \u001b[49m\u001b[38;5;241;43m@\u001b[39;49m\u001b[43m \u001b[49m\u001b[43mN\u001b[49m\n",
      "\u001b[1;31mValueError\u001b[0m: matmul: Input operand 1 has a mismatch in its core dimension 0, with gufunc signature (n?,k),(k,m?)->(n?,m?) (size 2 is different from 3)"
     ]
    }
   ],
   "source": [
    "M @ N"
   ]
  },
  {
   "cell_type": "code",
   "execution_count": 12,
   "id": "c9e8faa2",
   "metadata": {},
   "outputs": [
    {
     "data": {
      "text/plain": [
       "array([[0., 0., 0.],\n",
       "       [0., 0., 0.],\n",
       "       [0., 0., 0.]])"
      ]
     },
     "execution_count": 12,
     "metadata": {},
     "output_type": "execute_result"
    }
   ],
   "source": [
    "K = np.zeros((3,3))\n",
    "K"
   ]
  },
  {
   "cell_type": "code",
   "execution_count": 13,
   "id": "7f5d946f",
   "metadata": {},
   "outputs": [
    {
     "data": {
      "text/plain": [
       "array([[0.6176902 , 0.48822515, 0.97889194],\n",
       "       [0.78104994, 0.26398367, 0.24744913],\n",
       "       [0.86270139, 0.49966817, 0.65365253]])"
      ]
     },
     "execution_count": 13,
     "metadata": {},
     "output_type": "execute_result"
    }
   ],
   "source": [
    "L = np.random.random((3,3))\n",
    "L"
   ]
  },
  {
   "cell_type": "code",
   "execution_count": 14,
   "id": "88a68a5f",
   "metadata": {},
   "outputs": [
    {
     "data": {
      "text/plain": [
       "array([[0.6176902 , 0.48822515, 0.97889194],\n",
       "       [0.78104994, 0.26398367, 0.24744913],\n",
       "       [0.86270139, 0.49966817, 0.65365253]])"
      ]
     },
     "execution_count": 14,
     "metadata": {},
     "output_type": "execute_result"
    }
   ],
   "source": [
    "L + K"
   ]
  },
  {
   "cell_type": "code",
   "execution_count": 15,
   "id": "bbd2fdee",
   "metadata": {},
   "outputs": [
    {
     "data": {
      "text/plain": [
       "array([[1., 1., 1.],\n",
       "       [1., 1., 1.],\n",
       "       [1., 1., 1.]])"
      ]
     },
     "execution_count": 15,
     "metadata": {},
     "output_type": "execute_result"
    }
   ],
   "source": [
    "np.ones_like(K)"
   ]
  },
  {
   "cell_type": "code",
   "execution_count": 16,
   "id": "8cf754fe",
   "metadata": {},
   "outputs": [
    {
     "data": {
      "text/plain": [
       "array([[0., 0., 0.],\n",
       "       [0., 0., 0.],\n",
       "       [0., 0., 0.]])"
      ]
     },
     "execution_count": 16,
     "metadata": {},
     "output_type": "execute_result"
    }
   ],
   "source": [
    "np.zeros_like(K)"
   ]
  },
  {
   "cell_type": "code",
   "execution_count": 17,
   "id": "8464bd51",
   "metadata": {},
   "outputs": [
    {
     "data": {
      "text/plain": [
       "array([[0.5454979 , 0.01822511, 0.64732412],\n",
       "       [0.45741129, 0.98908396, 0.22372724],\n",
       "       [0.70685648, 0.94313721, 0.9376779 ]])"
      ]
     },
     "execution_count": 17,
     "metadata": {},
     "output_type": "execute_result"
    }
   ],
   "source": [
    "F = np.random.random((3,3))\n",
    "F"
   ]
  },
  {
   "cell_type": "code",
   "execution_count": 18,
   "id": "66e24ab9",
   "metadata": {},
   "outputs": [
    {
     "data": {
      "text/plain": [
       "array([[0.88312539, 0.03732931, 0.66128251],\n",
       "       [0.58563642, 3.74676193, 0.90413428],\n",
       "       [0.81935243, 1.8875271 , 1.43452041]])"
      ]
     },
     "execution_count": 18,
     "metadata": {},
     "output_type": "execute_result"
    }
   ],
   "source": [
    "F/L"
   ]
  },
  {
   "cell_type": "code",
   "execution_count": 19,
   "id": "e58a65d4",
   "metadata": {},
   "outputs": [
    {
     "data": {
      "text/plain": [
       "array([[0.18183263, 0.00607504, 0.21577471],\n",
       "       [0.15247043, 0.32969465, 0.07457575],\n",
       "       [0.23561883, 0.31437907, 0.3125593 ]])"
      ]
     },
     "execution_count": 19,
     "metadata": {},
     "output_type": "execute_result"
    }
   ],
   "source": [
    "F/3"
   ]
  },
  {
   "cell_type": "code",
   "execution_count": 20,
   "id": "50875695",
   "metadata": {},
   "outputs": [
    {
     "data": {
      "text/plain": [
       "array([0.5454979 , 0.01822511, 0.64732412])"
      ]
     },
     "execution_count": 20,
     "metadata": {},
     "output_type": "execute_result"
    }
   ],
   "source": [
    "F[0]"
   ]
  },
  {
   "cell_type": "code",
   "execution_count": 21,
   "id": "dec00e48",
   "metadata": {},
   "outputs": [
    {
     "name": "stdout",
     "output_type": "stream",
     "text": [
      "[0.5454979  0.01822511 0.64732412]\n",
      "[0.45741129 0.98908396 0.22372724]\n",
      "[0.70685648 0.94313721 0.9376779 ]\n"
     ]
    }
   ],
   "source": [
    "for f in F:\n",
    "    print(f)"
   ]
  },
  {
   "cell_type": "code",
   "execution_count": 22,
   "id": "6e185277",
   "metadata": {},
   "outputs": [
    {
     "name": "stdout",
     "output_type": "stream",
     "text": [
      "[0.5454979  0.01822511 0.64732412]\n",
      "[0.45741129 0.98908396 0.22372724]\n",
      "[0.70685648 0.94313721 0.9376779 ]\n"
     ]
    }
   ],
   "source": [
    "for i in range(len(F)):\n",
    "    print(F[i])"
   ]
  },
  {
   "cell_type": "code",
   "execution_count": 23,
   "id": "6f4e771b",
   "metadata": {},
   "outputs": [
    {
     "name": "stdout",
     "output_type": "stream",
     "text": [
      "0.5454979037614525\n",
      "0.01822510809202904\n",
      "0.6473241237240572\n",
      "0.4574112887949464\n",
      "0.9890839594362899\n",
      "0.2237272397542125\n",
      "0.7068564798637517\n",
      "0.943137214841293\n",
      "0.9376778998749807\n"
     ]
    }
   ],
   "source": [
    "for f in F:\n",
    "    for j in f:\n",
    "        print(j)"
   ]
  },
  {
   "cell_type": "code",
   "execution_count": 24,
   "id": "6196d488",
   "metadata": {},
   "outputs": [
    {
     "name": "stdout",
     "output_type": "stream",
     "text": [
      "0.5454979037614525\n",
      "0.01822510809202904\n",
      "0.6473241237240572\n",
      "0.4574112887949464\n",
      "0.9890839594362899\n",
      "0.2237272397542125\n",
      "0.7068564798637517\n",
      "0.943137214841293\n",
      "0.9376778998749807\n"
     ]
    }
   ],
   "source": [
    "for i in range(F.shape[0]):\n",
    "    for j in range(F.shape[1]):\n",
    "        print(F[i,j])"
   ]
  },
  {
   "cell_type": "code",
   "execution_count": 25,
   "id": "95bc0a1f",
   "metadata": {},
   "outputs": [
    {
     "data": {
      "text/plain": [
       "0.5454979037614525"
      ]
     },
     "execution_count": 25,
     "metadata": {},
     "output_type": "execute_result"
    }
   ],
   "source": [
    "F[0,0]"
   ]
  },
  {
   "cell_type": "code",
   "execution_count": 26,
   "id": "528a44a6",
   "metadata": {},
   "outputs": [
    {
     "data": {
      "text/plain": [
       "0.2237272397542125"
      ]
     },
     "execution_count": 26,
     "metadata": {},
     "output_type": "execute_result"
    }
   ],
   "source": [
    "F[1,2]"
   ]
  },
  {
   "cell_type": "code",
   "execution_count": 27,
   "id": "1c4bd9f7",
   "metadata": {},
   "outputs": [
    {
     "data": {
      "text/plain": [
       "array([0.5454979 , 0.01822511, 0.64732412])"
      ]
     },
     "execution_count": 27,
     "metadata": {},
     "output_type": "execute_result"
    }
   ],
   "source": [
    "F[0]"
   ]
  },
  {
   "cell_type": "code",
   "execution_count": 28,
   "id": "352a5ff8",
   "metadata": {},
   "outputs": [
    {
     "data": {
      "text/plain": [
       "array([[0.5454979 , 0.01822511, 0.64732412]])"
      ]
     },
     "execution_count": 28,
     "metadata": {},
     "output_type": "execute_result"
    }
   ],
   "source": [
    "F[0:1]"
   ]
  },
  {
   "cell_type": "code",
   "execution_count": 29,
   "id": "ffad5d71",
   "metadata": {},
   "outputs": [
    {
     "data": {
      "text/plain": [
       "array([[0.5454979]])"
      ]
     },
     "execution_count": 29,
     "metadata": {},
     "output_type": "execute_result"
    }
   ],
   "source": [
    "F[0:1,0:1]"
   ]
  },
  {
   "cell_type": "code",
   "execution_count": 30,
   "id": "d895610f",
   "metadata": {},
   "outputs": [
    {
     "data": {
      "text/plain": [
       "array([[0.5454979 , 0.01822511, 0.64732412]])"
      ]
     },
     "execution_count": 30,
     "metadata": {},
     "output_type": "execute_result"
    }
   ],
   "source": [
    "F[0:1,:]"
   ]
  },
  {
   "cell_type": "code",
   "execution_count": 31,
   "id": "db94d650",
   "metadata": {},
   "outputs": [
    {
     "data": {
      "text/plain": [
       "array([[0.5454979 ],\n",
       "       [0.45741129],\n",
       "       [0.70685648]])"
      ]
     },
     "execution_count": 31,
     "metadata": {},
     "output_type": "execute_result"
    }
   ],
   "source": [
    "F[:,0:1]"
   ]
  },
  {
   "cell_type": "code",
   "execution_count": 32,
   "id": "5300a1b2",
   "metadata": {},
   "outputs": [
    {
     "data": {
      "text/plain": [
       "array([0.5454979 , 0.45741129, 0.70685648])"
      ]
     },
     "execution_count": 32,
     "metadata": {},
     "output_type": "execute_result"
    }
   ],
   "source": [
    "F[:,0]"
   ]
  },
  {
   "cell_type": "code",
   "execution_count": 33,
   "id": "02783c4c",
   "metadata": {},
   "outputs": [
    {
     "data": {
      "text/plain": [
       "array([[0.5454979 , 0.01822511, 0.64732412],\n",
       "       [0.45741129, 0.98908396, 0.22372724],\n",
       "       [0.70685648, 0.94313721, 0.9376779 ]])"
      ]
     },
     "execution_count": 33,
     "metadata": {},
     "output_type": "execute_result"
    }
   ],
   "source": [
    "F"
   ]
  },
  {
   "cell_type": "code",
   "execution_count": 34,
   "id": "b789a7b2",
   "metadata": {},
   "outputs": [
    {
     "data": {
      "text/plain": [
       "array([[0.5454979 , 0.01822511, 0.64732412],\n",
       "       [0.45741129, 0.98908396, 0.22372724]])"
      ]
     },
     "execution_count": 34,
     "metadata": {},
     "output_type": "execute_result"
    }
   ],
   "source": [
    "F[0:2]"
   ]
  },
  {
   "cell_type": "code",
   "execution_count": 35,
   "id": "41a3a9e7",
   "metadata": {},
   "outputs": [
    {
     "data": {
      "text/plain": [
       "array([[0.01822511],\n",
       "       [0.98908396]])"
      ]
     },
     "execution_count": 35,
     "metadata": {},
     "output_type": "execute_result"
    }
   ],
   "source": [
    "F[0:2,1:2]"
   ]
  },
  {
   "cell_type": "code",
   "execution_count": 36,
   "id": "e43d39b4",
   "metadata": {},
   "outputs": [
    {
     "data": {
      "text/plain": [
       "array([[0.03208865, 0.51243683, 0.8982035 , 0.72183204, 0.05391512],\n",
       "       [0.24716596, 0.74592235, 0.39588217, 0.97676426, 0.33458021],\n",
       "       [0.98538705, 0.68930001, 0.99314494, 0.55423867, 0.53056807],\n",
       "       [0.02527321, 0.68924635, 0.06180704, 0.84861553, 0.45479997],\n",
       "       [0.85974923, 0.55189207, 0.89911661, 0.03927412, 0.45616175]])"
      ]
     },
     "execution_count": 36,
     "metadata": {},
     "output_type": "execute_result"
    }
   ],
   "source": [
    "K = np.random.random((5,5))\n",
    "K"
   ]
  },
  {
   "cell_type": "code",
   "execution_count": 37,
   "id": "a57f59dc",
   "metadata": {},
   "outputs": [
    {
     "data": {
      "text/plain": [
       "array([[0.03208865, 0.72183204],\n",
       "       [0.02527321, 0.84861553]])"
      ]
     },
     "execution_count": 37,
     "metadata": {},
     "output_type": "execute_result"
    }
   ],
   "source": [
    "K[np.ix_((0,3),(0,3))]"
   ]
  },
  {
   "cell_type": "code",
   "execution_count": 38,
   "id": "d424d887",
   "metadata": {},
   "outputs": [
    {
     "data": {
      "text/plain": [
       "array([0. , 0.5, 1. , 1.5, 2. , 2.5, 3. , 3.5, 4. , 4.5, 5. ])"
      ]
     },
     "execution_count": 38,
     "metadata": {},
     "output_type": "execute_result"
    }
   ],
   "source": [
    "np.linspace(0,5,10+1)"
   ]
  },
  {
   "cell_type": "code",
   "execution_count": 39,
   "id": "ee154fe6",
   "metadata": {},
   "outputs": [
    {
     "data": {
      "text/plain": [
       "array([0. , 0.5, 1. , 1.5, 2. , 2.5, 3. , 3.5, 4. , 4.5, 5. ])"
      ]
     },
     "execution_count": 39,
     "metadata": {},
     "output_type": "execute_result"
    }
   ],
   "source": [
    "np.arange(0,5+0.5,0.5)"
   ]
  },
  {
   "cell_type": "code",
   "execution_count": 40,
   "id": "cc50d544",
   "metadata": {},
   "outputs": [],
   "source": [
    "x = np.linspace(0,4*np.pi,100+1)"
   ]
  },
  {
   "cell_type": "code",
   "execution_count": 41,
   "id": "f39e7e13",
   "metadata": {},
   "outputs": [
    {
     "data": {
      "text/plain": [
       "array([ 0.00000000e+00,  1.25333234e-01,  2.48689887e-01,  3.68124553e-01,\n",
       "        4.81753674e-01,  5.87785252e-01,  6.84547106e-01,  7.70513243e-01,\n",
       "        8.44327926e-01,  9.04827052e-01,  9.51056516e-01,  9.82287251e-01,\n",
       "        9.98026728e-01,  9.98026728e-01,  9.82287251e-01,  9.51056516e-01,\n",
       "        9.04827052e-01,  8.44327926e-01,  7.70513243e-01,  6.84547106e-01,\n",
       "        5.87785252e-01,  4.81753674e-01,  3.68124553e-01,  2.48689887e-01,\n",
       "        1.25333234e-01, -3.21624530e-16, -1.25333234e-01, -2.48689887e-01,\n",
       "       -3.68124553e-01, -4.81753674e-01, -5.87785252e-01, -6.84547106e-01,\n",
       "       -7.70513243e-01, -8.44327926e-01, -9.04827052e-01, -9.51056516e-01,\n",
       "       -9.82287251e-01, -9.98026728e-01, -9.98026728e-01, -9.82287251e-01,\n",
       "       -9.51056516e-01, -9.04827052e-01, -8.44327926e-01, -7.70513243e-01,\n",
       "       -6.84547106e-01, -5.87785252e-01, -4.81753674e-01, -3.68124553e-01,\n",
       "       -2.48689887e-01, -1.25333234e-01,  6.43249060e-16,  1.25333234e-01,\n",
       "        2.48689887e-01,  3.68124553e-01,  4.81753674e-01,  5.87785252e-01,\n",
       "        6.84547106e-01,  7.70513243e-01,  8.44327926e-01,  9.04827052e-01,\n",
       "        9.51056516e-01,  9.82287251e-01,  9.98026728e-01,  9.98026728e-01,\n",
       "        9.82287251e-01,  9.51056516e-01,  9.04827052e-01,  8.44327926e-01,\n",
       "        7.70513243e-01,  6.84547106e-01,  5.87785252e-01,  4.81753674e-01,\n",
       "        3.68124553e-01,  2.48689887e-01,  1.25333234e-01,  3.67394040e-16,\n",
       "       -1.25333234e-01, -2.48689887e-01, -3.68124553e-01, -4.81753674e-01,\n",
       "       -5.87785252e-01, -6.84547106e-01, -7.70513243e-01, -8.44327926e-01,\n",
       "       -9.04827052e-01, -9.51056516e-01, -9.82287251e-01, -9.98026728e-01,\n",
       "       -9.98026728e-01, -9.82287251e-01, -9.51056516e-01, -9.04827052e-01,\n",
       "       -8.44327926e-01, -7.70513243e-01, -6.84547106e-01, -5.87785252e-01,\n",
       "       -4.81753674e-01, -3.68124553e-01, -2.48689887e-01, -1.25333234e-01,\n",
       "       -4.89858720e-16])"
      ]
     },
     "execution_count": 41,
     "metadata": {},
     "output_type": "execute_result"
    }
   ],
   "source": [
    "def f(x):\n",
    "    return np.sin(x)\n",
    "\n",
    "y = f(x)\n",
    "\n",
    "y"
   ]
  },
  {
   "cell_type": "code",
   "execution_count": 42,
   "id": "d58a2d45",
   "metadata": {},
   "outputs": [
    {
     "data": {
      "text/plain": [
       "[<matplotlib.lines.Line2D at 0x18655ea57c0>]"
      ]
     },
     "execution_count": 42,
     "metadata": {},
     "output_type": "execute_result"
    },
    {
     "data": {
      "image/png": "[encoded data removed]",
      "text/plain": [
       "<Figure size 432x288 with 1 Axes>"
      ]
     },
     "metadata": {
      "needs_background": "light"
     },
     "output_type": "display_data"
    }
   ],
   "source": [
    "import matplotlib.pyplot as plt\n",
    "plt.plot(x,y)"
   ]
  },
  {
   "cell_type": "code",
   "execution_count": 43,
   "id": "6b9c3573",
   "metadata": {},
   "outputs": [
    {
     "data": {
      "text/plain": [
       "array([[  3,   5, 123],\n",
       "       [ 23, 123,  -4],\n",
       "       [ -5,  12,   3]])"
      ]
     },
     "execution_count": 43,
     "metadata": {},
     "output_type": "execute_result"
    }
   ],
   "source": [
    "M = np.array([[3,5,123],[23,123,-4],[-5,12,3]])\n",
    "M"
   ]
  },
  {
   "cell_type": "code",
   "execution_count": 44,
   "id": "272d9e84",
   "metadata": {},
   "outputs": [
    {
     "data": {
      "text/plain": [
       "array([[  3,  23,  -5],\n",
       "       [  5, 123,  12],\n",
       "       [123,  -4,   3]])"
      ]
     },
     "execution_count": 44,
     "metadata": {},
     "output_type": "execute_result"
    }
   ],
   "source": [
    "M.T"
   ]
  },
  {
   "cell_type": "code",
   "execution_count": 45,
   "id": "aa54638d",
   "metadata": {},
   "outputs": [
    {
     "data": {
      "text/plain": [
       "array([[ 0.00377038,  0.01320988, -0.13697231],\n",
       "       [-0.00044304,  0.005642  ,  0.02568739],\n",
       "       [ 0.00805613, -0.00055154,  0.00229658]])"
      ]
     },
     "execution_count": 45,
     "metadata": {},
     "output_type": "execute_result"
    }
   ],
   "source": [
    "np.linalg.inv(M)"
   ]
  },
  {
   "cell_type": "code",
   "execution_count": 46,
   "id": "581c5afc",
   "metadata": {},
   "outputs": [
    {
     "data": {
      "text/plain": [
       "(array([125.69748648 +0.j        ,   1.65125676+29.61681453j,\n",
       "          1.65125676-29.61681453j]),\n",
       " array([[ 0.13162547+0.j        ,  0.95663843+0.j        ,\n",
       "          0.95663843-0.j        ],\n",
       "        [ 0.98709762+0.j        , -0.1729916 -0.03458175j,\n",
       "         -0.1729916 +0.03458175j],\n",
       "        [ 0.09117582+0.j        , -0.00345774+0.23175196j,\n",
       "         -0.00345774-0.23175196j]]))"
      ]
     },
     "execution_count": 46,
     "metadata": {},
     "output_type": "execute_result"
    }
   ],
   "source": [
    "np.linalg.eig(M)"
   ]
  },
  {
   "cell_type": "code",
   "execution_count": 47,
   "id": "13c94614",
   "metadata": {},
   "outputs": [],
   "source": [
    "eigs = np.linalg.eig(M)"
   ]
  },
  {
   "cell_type": "code",
   "execution_count": 48,
   "id": "a69db8e6",
   "metadata": {},
   "outputs": [],
   "source": [
    "T = np.array([[1],[2],[3]])"
   ]
  },
  {
   "cell_type": "code",
   "execution_count": 49,
   "id": "8b777b4f",
   "metadata": {},
   "outputs": [],
   "source": [
    "eigenvalues = eigs[0]"
   ]
  },
  {
   "cell_type": "code",
   "execution_count": 50,
   "id": "039fcb9e",
   "metadata": {},
   "outputs": [],
   "source": [
    "eigenvectors = eigs[1]"
   ]
  },
  {
   "cell_type": "code",
   "execution_count": 51,
   "id": "62c7fba9",
   "metadata": {},
   "outputs": [
    {
     "name": "stdout",
     "output_type": "stream",
     "text": [
      "eigenvalue: (125.6974864813611+0j) , eigenvector [0.13162547+0.j 0.95663843+0.j 0.95663843-0.j]\n",
      "eigenvalue: (1.6512567593194962+29.61681452741271j) , eigenvector [ 0.98709762+0.j         -0.1729916 -0.03458175j -0.1729916 +0.03458175j]\n",
      "eigenvalue: (1.6512567593194962-29.61681452741271j) , eigenvector [ 0.09117582+0.j         -0.00345774+0.23175196j -0.00345774-0.23175196j]\n"
     ]
    }
   ],
   "source": [
    "for i,j in zip(eigenvalues,eigenvectors):\n",
    "    print(f\"eigenvalue: {i} , eigenvector {j}\")"
   ]
  },
  {
   "cell_type": "code",
   "execution_count": 52,
   "id": "c4f0c923",
   "metadata": {},
   "outputs": [
    {
     "data": {
      "text/plain": [
       "array([[-0.38072677],\n",
       "       [ 0.08790315],\n",
       "       [ 0.0138428 ]])"
      ]
     },
     "execution_count": 52,
     "metadata": {},
     "output_type": "execute_result"
    }
   ],
   "source": [
    "np.linalg.solve(M,T)"
   ]
  }
 ],
 "metadata": {
  "kernelspec": {
   "display_name": "Python 3 (ipykernel)",
   "language": "python",
   "name": "python3"
  },
  "language_info": {
   "codemirror_mode": {
    "name": "ipython",
    "version": 3
   },
   "file_extension": ".py",
   "mimetype": "text/x-python",
   "name": "python",
   "nbconvert_exporter": "python",
   "pygments_lexer": "ipython3",
   "version": "3.9.12"
  }
 },
 "nbformat": 4,
 "nbformat_minor": 5
}
