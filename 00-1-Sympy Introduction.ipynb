{
 "cells": [
  {
   "cell_type": "code",
   "execution_count": 1,
   "id": "5bd0c6ab",
   "metadata": {},
   "outputs": [
    {
     "name": "stdout",
     "output_type": "stream",
     "text": [
      "Requirement already satisfied: sympy in c:\\users\\gokay\\anaconda3\\lib\\site-packages (1.10.1)\n",
      "Requirement already satisfied: mpmath>=0.19 in c:\\users\\gokay\\anaconda3\\lib\\site-packages (from sympy) (1.2.1)\n"
     ]
    }
   ],
   "source": [
    "!pip install sympy"
   ]
  },
  {
   "cell_type": "code",
   "execution_count": 2,
   "id": "eb3a879d",
   "metadata": {},
   "outputs": [
    {
     "data": {
      "text/latex": [
       "$\\displaystyle x$"
      ],
      "text/plain": [
       "x"
      ]
     },
     "execution_count": 2,
     "metadata": {},
     "output_type": "execute_result"
    }
   ],
   "source": [
    "import sympy as sp\n",
    "\n",
    "x = sp.symbols('x')\n",
    "x"
   ]
  },
  {
   "cell_type": "code",
   "execution_count": 3,
   "id": "ed966826",
   "metadata": {},
   "outputs": [
    {
     "data": {
      "text/latex": [
       "$\\displaystyle 3$"
      ],
      "text/plain": [
       "3"
      ]
     },
     "execution_count": 3,
     "metadata": {},
     "output_type": "execute_result"
    }
   ],
   "source": [
    "x.subs(x,3)"
   ]
  },
  {
   "cell_type": "code",
   "execution_count": 4,
   "id": "48ec66b0",
   "metadata": {},
   "outputs": [
    {
     "data": {
      "text/latex": [
       "$\\displaystyle x$"
      ],
      "text/plain": [
       "x"
      ]
     },
     "execution_count": 4,
     "metadata": {},
     "output_type": "execute_result"
    }
   ],
   "source": [
    "x"
   ]
  },
  {
   "cell_type": "code",
   "execution_count": 5,
   "id": "46164399",
   "metadata": {},
   "outputs": [
    {
     "data": {
      "text/latex": [
       "$\\displaystyle - 5 x^{2} + 3 x$"
      ],
      "text/plain": [
       "-5*x**2 + 3*x"
      ]
     },
     "execution_count": 5,
     "metadata": {},
     "output_type": "execute_result"
    }
   ],
   "source": [
    "eq = 3*x-5*x**2\n",
    "eq"
   ]
  },
  {
   "cell_type": "code",
   "execution_count": 6,
   "id": "f34720f4",
   "metadata": {},
   "outputs": [
    {
     "data": {
      "text/latex": [
       "$\\displaystyle 3 - 10 x$"
      ],
      "text/plain": [
       "3 - 10*x"
      ]
     },
     "execution_count": 6,
     "metadata": {},
     "output_type": "execute_result"
    }
   ],
   "source": [
    "sp.diff(eq,x)"
   ]
  },
  {
   "cell_type": "code",
   "execution_count": 7,
   "id": "e516a5c1",
   "metadata": {},
   "outputs": [
    {
     "data": {
      "text/latex": [
       "$\\displaystyle - \\frac{5 x^{3}}{3} + \\frac{3 x^{2}}{2}$"
      ],
      "text/plain": [
       "-5*x**3/3 + 3*x**2/2"
      ]
     },
     "execution_count": 7,
     "metadata": {},
     "output_type": "execute_result"
    }
   ],
   "source": [
    "sp.integrate(eq,x)"
   ]
  },
  {
   "cell_type": "code",
   "execution_count": 8,
   "id": "52b0c387",
   "metadata": {},
   "outputs": [
    {
     "data": {
      "text/latex": [
       "$\\displaystyle \\left[\\begin{matrix}1\\\\2\\end{matrix}\\right]$"
      ],
      "text/plain": [
       "Matrix([\n",
       "[1],\n",
       "[2]])"
      ]
     },
     "execution_count": 8,
     "metadata": {},
     "output_type": "execute_result"
    }
   ],
   "source": [
    "sp.Matrix([1,2])"
   ]
  },
  {
   "cell_type": "code",
   "execution_count": 9,
   "id": "a0065f3b",
   "metadata": {},
   "outputs": [
    {
     "data": {
      "text/latex": [
       "$\\displaystyle \\left[\\begin{matrix}1 & 2\\end{matrix}\\right]$"
      ],
      "text/plain": [
       "Matrix([[1, 2]])"
      ]
     },
     "execution_count": 9,
     "metadata": {},
     "output_type": "execute_result"
    }
   ],
   "source": [
    "sp.Matrix([1,2]).T"
   ]
  },
  {
   "cell_type": "code",
   "execution_count": 10,
   "id": "5c6ea3bf",
   "metadata": {},
   "outputs": [
    {
     "data": {
      "text/latex": [
       "$\\displaystyle \\left[\\begin{matrix}4\\\\7\\end{matrix}\\right]$"
      ],
      "text/plain": [
       "Matrix([\n",
       "[4],\n",
       "[7]])"
      ]
     },
     "execution_count": 10,
     "metadata": {},
     "output_type": "execute_result"
    }
   ],
   "source": [
    "sp.Matrix([1,2]) + sp.Matrix([3,5])"
   ]
  },
  {
   "cell_type": "code",
   "execution_count": 11,
   "id": "dbb01294",
   "metadata": {},
   "outputs": [
    {
     "data": {
      "text/latex": [
       "$\\displaystyle \\left[\\begin{matrix}3 & 4 & 5\\\\3 & 2 & 1\\\\6 & 3 & 1\\end{matrix}\\right]$"
      ],
      "text/plain": [
       "Matrix([\n",
       "[3, 4, 5],\n",
       "[3, 2, 1],\n",
       "[6, 3, 1]])"
      ]
     },
     "execution_count": 11,
     "metadata": {},
     "output_type": "execute_result"
    }
   ],
   "source": [
    "sp.Matrix([[3,4,5],[3,2,1],[6,3,1]])"
   ]
  },
  {
   "cell_type": "code",
   "execution_count": 12,
   "id": "a98a3f34",
   "metadata": {},
   "outputs": [
    {
     "data": {
      "text/plain": [
       "[0, 1, 2, 3, 4]"
      ]
     },
     "execution_count": 12,
     "metadata": {},
     "output_type": "execute_result"
    }
   ],
   "source": [
    "A = []\n",
    "for i in range(5):\n",
    "    A.append(i)\n",
    "    \n",
    "A"
   ]
  },
  {
   "cell_type": "code",
   "execution_count": 13,
   "id": "2d5574e4",
   "metadata": {},
   "outputs": [
    {
     "data": {
      "text/plain": [
       "[0, 1, 2, 3, 4]"
      ]
     },
     "execution_count": 13,
     "metadata": {},
     "output_type": "execute_result"
    }
   ],
   "source": [
    "B = [i for i in range(5)]\n",
    "\n",
    "B"
   ]
  },
  {
   "cell_type": "code",
   "execution_count": 14,
   "id": "90720c80",
   "metadata": {},
   "outputs": [
    {
     "name": "stdout",
     "output_type": "stream",
     "text": [
      "K[0,0]\n",
      "K[0,1]\n",
      "K[1,0]\n",
      "K[1,1]\n"
     ]
    }
   ],
   "source": [
    "for i in range(2):\n",
    "    for j in range(2):\n",
    "        print(f\"K[{i},{j}]\")"
   ]
  },
  {
   "cell_type": "code",
   "execution_count": 15,
   "id": "b528b196",
   "metadata": {},
   "outputs": [
    {
     "data": {
      "text/plain": [
       "[[0, 1], [1, 2]]"
      ]
     },
     "execution_count": 15,
     "metadata": {},
     "output_type": "execute_result"
    }
   ],
   "source": [
    "K = [[i+j for i in range(2)] for j in range(2)]\n",
    "K"
   ]
  },
  {
   "cell_type": "code",
   "execution_count": 16,
   "id": "8aff8f6f",
   "metadata": {},
   "outputs": [
    {
     "data": {
      "text/latex": [
       "$\\displaystyle \\left[\\begin{matrix}0 & 1\\\\1 & 2\\end{matrix}\\right]$"
      ],
      "text/plain": [
       "Matrix([\n",
       "[0, 1],\n",
       "[1, 2]])"
      ]
     },
     "execution_count": 16,
     "metadata": {},
     "output_type": "execute_result"
    }
   ],
   "source": [
    "M = sp.Matrix(K)\n",
    "M"
   ]
  },
  {
   "cell_type": "code",
   "execution_count": 17,
   "id": "a31816b7",
   "metadata": {},
   "outputs": [
    {
     "data": {
      "text/plain": [
       "[0, -sqrt(6)*sqrt(1/z)/3, sqrt(6)*sqrt(1/z)/3]"
      ]
     },
     "execution_count": 17,
     "metadata": {},
     "output_type": "execute_result"
    }
   ],
   "source": [
    "z = sp.symbols('z')\n",
    "\n",
    "eq = -3*x**3*z**2 + 2*x*z\n",
    "\n",
    "sol = sp.solve(eq,x)\n",
    "sol"
   ]
  },
  {
   "cell_type": "code",
   "execution_count": 18,
   "id": "2a476696",
   "metadata": {},
   "outputs": [
    {
     "name": "stdout",
     "output_type": "stream",
     "text": [
      "0\n",
      "-sqrt(6)*sqrt(1/z)/3\n",
      "sqrt(6)*sqrt(1/z)/3\n"
     ]
    }
   ],
   "source": [
    "for s in sol:\n",
    "    print(s)"
   ]
  },
  {
   "cell_type": "code",
   "execution_count": 19,
   "id": "25e444ba",
   "metadata": {},
   "outputs": [
    {
     "name": "stdout",
     "output_type": "stream",
     "text": [
      "0\n",
      "-sqrt(6)/3\n",
      "sqrt(6)/3\n"
     ]
    }
   ],
   "source": [
    "for s in sol:\n",
    "    print(s.subs(z,1))"
   ]
  },
  {
   "cell_type": "code",
   "execution_count": 20,
   "id": "9580eeb2",
   "metadata": {},
   "outputs": [
    {
     "data": {
      "text/latex": [
       "$\\displaystyle \\left[\\begin{matrix}2 & 3\\\\4 & 1\\end{matrix}\\right]$"
      ],
      "text/plain": [
       "Matrix([\n",
       "[2, 3],\n",
       "[4, 1]])"
      ]
     },
     "execution_count": 20,
     "metadata": {},
     "output_type": "execute_result"
    }
   ],
   "source": [
    "M1 = sp.Matrix([[2,3],[4,1]])\n",
    "M2 = sp.Matrix([1,2])\n",
    "M1"
   ]
  },
  {
   "cell_type": "code",
   "execution_count": 21,
   "id": "1003c638",
   "metadata": {},
   "outputs": [
    {
     "data": {
      "text/latex": [
       "$\\displaystyle \\left[\\begin{matrix}1\\\\2\\end{matrix}\\right]$"
      ],
      "text/plain": [
       "Matrix([\n",
       "[1],\n",
       "[2]])"
      ]
     },
     "execution_count": 21,
     "metadata": {},
     "output_type": "execute_result"
    }
   ],
   "source": [
    "M2"
   ]
  },
  {
   "cell_type": "code",
   "execution_count": 22,
   "id": "c1d85203",
   "metadata": {},
   "outputs": [
    {
     "data": {
      "text/plain": [
       "((2, 2), (2, 1))"
      ]
     },
     "execution_count": 22,
     "metadata": {},
     "output_type": "execute_result"
    }
   ],
   "source": [
    "M1.shape, M2.shape"
   ]
  },
  {
   "cell_type": "code",
   "execution_count": 23,
   "id": "72e6da0f",
   "metadata": {},
   "outputs": [
    {
     "data": {
      "text/latex": [
       "$\\displaystyle \\left[\\begin{matrix}8\\\\6\\end{matrix}\\right]$"
      ],
      "text/plain": [
       "Matrix([\n",
       "[8],\n",
       "[6]])"
      ]
     },
     "execution_count": 23,
     "metadata": {},
     "output_type": "execute_result"
    }
   ],
   "source": [
    "M1 @ M2"
   ]
  },
  {
   "cell_type": "code",
   "execution_count": 24,
   "id": "6fa5a435",
   "metadata": {},
   "outputs": [
    {
     "data": {
      "text/latex": [
       "$\\displaystyle \\left[\\begin{matrix}10 & 5\\end{matrix}\\right]$"
      ],
      "text/plain": [
       "Matrix([[10, 5]])"
      ]
     },
     "execution_count": 24,
     "metadata": {},
     "output_type": "execute_result"
    }
   ],
   "source": [
    "M2.T @ M1"
   ]
  },
  {
   "cell_type": "markdown",
   "id": "11c1060d",
   "metadata": {},
   "source": [
    "$$\n",
    "\\frac{d^2 y(t)}{dt^2} - 2 \\frac{d y(t)}{dt} + y(t) = sin(t)\n",
    "$$"
   ]
  },
  {
   "cell_type": "code",
   "execution_count": 25,
   "id": "844458d3",
   "metadata": {},
   "outputs": [
    {
     "data": {
      "text/latex": [
       "$\\displaystyle y{\\left(t \\right)} - \\sin{\\left(t \\right)} - 2 \\frac{d}{d t} y{\\left(t \\right)} + \\frac{d^{2}}{d t^{2}} y{\\left(t \\right)}$"
      ],
      "text/plain": [
       "y(t) - sin(t) - 2*Derivative(y(t), t) + Derivative(y(t), (t, 2))"
      ]
     },
     "execution_count": 25,
     "metadata": {},
     "output_type": "execute_result"
    }
   ],
   "source": [
    "y = sp.Function('y')\n",
    "t = sp.symbols('t')\n",
    "\n",
    "eq = y(t).diff(t, 2) - 2*y(t).diff(t) + y(t) - sp.sin(t)\n",
    "eq"
   ]
  },
  {
   "cell_type": "code",
   "execution_count": 26,
   "id": "647ba8aa",
   "metadata": {},
   "outputs": [
    {
     "data": {
      "text/latex": [
       "$\\displaystyle y{\\left(t \\right)} = \\left(C_{1} + C_{2} t\\right) e^{t} + \\frac{\\cos{\\left(t \\right)}}{2}$"
      ],
      "text/plain": [
       "Eq(y(t), (C1 + C2*t)*exp(t) + cos(t)/2)"
      ]
     },
     "execution_count": 26,
     "metadata": {},
     "output_type": "execute_result"
    }
   ],
   "source": [
    "sp.dsolve(eq,y(t))"
   ]
  },
  {
   "cell_type": "code",
   "execution_count": 27,
   "id": "6684614c",
   "metadata": {},
   "outputs": [],
   "source": [
    "ic1 = y(t).subs(t,0)\n",
    "ic2 = sp.diff(y(t),t).subs(t,0)"
   ]
  },
  {
   "cell_type": "code",
   "execution_count": 28,
   "id": "b319425c",
   "metadata": {},
   "outputs": [
    {
     "data": {
      "text/latex": [
       "$\\displaystyle y{\\left(t \\right)} = \\left(\\frac{t}{2} - \\frac{1}{2}\\right) e^{t} + \\frac{\\cos{\\left(t \\right)}}{2}$"
      ],
      "text/plain": [
       "Eq(y(t), (t/2 - 1/2)*exp(t) + cos(t)/2)"
      ]
     },
     "execution_count": 28,
     "metadata": {},
     "output_type": "execute_result"
    }
   ],
   "source": [
    "sp.dsolve(eq,ics={ic1:0,ic2:0})"
   ]
  },
  {
   "cell_type": "code",
   "execution_count": 29,
   "id": "44e32375",
   "metadata": {},
   "outputs": [
    {
     "data": {
      "text/latex": [
       "$\\displaystyle \\left(\\frac{t}{2} - \\frac{1}{2}\\right) e^{t} + \\frac{\\cos{\\left(t \\right)}}{2}$"
      ],
      "text/plain": [
       "(t/2 - 1/2)*exp(t) + cos(t)/2"
      ]
     },
     "execution_count": 29,
     "metadata": {},
     "output_type": "execute_result"
    }
   ],
   "source": [
    "sol = sp.dsolve(eq,ics={ic1:0,ic2:0})\n",
    "sol.rhs"
   ]
  },
  {
   "cell_type": "code",
   "execution_count": 30,
   "id": "615ec539",
   "metadata": {},
   "outputs": [
    {
     "data": {
      "image/png": "[encoded data removed]",
      "text/plain": [
       "<Figure size 432x288 with 1 Axes>"
      ]
     },
     "metadata": {
      "needs_background": "light"
     },
     "output_type": "display_data"
    },
    {
     "data": {
      "text/plain": [
       "<sympy.plotting.plot.Plot at 0x27280596c70>"
      ]
     },
     "execution_count": 30,
     "metadata": {},
     "output_type": "execute_result"
    }
   ],
   "source": [
    "sp.plot(sol.rhs,(t,0,5))"
   ]
  },
  {
   "cell_type": "code",
   "execution_count": 31,
   "id": "be880f5d",
   "metadata": {},
   "outputs": [
    {
     "name": "stdout",
     "output_type": "stream",
     "text": [
      "2*x\n",
      "3*x**2\n",
      "5*x**4 - 4*x**3\n"
     ]
    }
   ],
   "source": [
    "K = [x**2,x**3,x**5-x**4]\n",
    "\n",
    "for eq in K:\n",
    "    print(eq.diff(x))\n",
    "    "
   ]
  },
  {
   "cell_type": "code",
   "execution_count": 32,
   "id": "0bade70c",
   "metadata": {},
   "outputs": [
    {
     "name": "stdout",
     "output_type": "stream",
     "text": [
      "equation 0 : x**2\n",
      "equation 1 : x**3\n",
      "equation 2 : x**5 - x**4\n"
     ]
    }
   ],
   "source": [
    "for i,eq in enumerate(K):\n",
    "    print(f\"equation {i} : {eq}\")"
   ]
  },
  {
   "cell_type": "code",
   "execution_count": 33,
   "id": "d8aea43d",
   "metadata": {},
   "outputs": [
    {
     "name": "stdout",
     "output_type": "stream",
     "text": [
      "equation 0 : x**2, derivative : 2*x\n",
      "--------------------------------------------------\n",
      "equation 1 : x**3, derivative : 3*x**2\n",
      "--------------------------------------------------\n",
      "equation 2 : x**5 - x**4, derivative : 5*x**4 - 4*x**3\n",
      "--------------------------------------------------\n"
     ]
    }
   ],
   "source": [
    "for i,eq in enumerate(K):\n",
    "    print(f\"equation {i} : {eq}, derivative : {eq.diff(x)}\")\n",
    "    print(\"--------------------------------------------------\")"
   ]
  },
  {
   "cell_type": "code",
   "execution_count": 34,
   "id": "12c1eed1",
   "metadata": {},
   "outputs": [
    {
     "name": "stdout",
     "output_type": "stream",
     "text": [
      "x**2\n",
      "x**3\n",
      "x**5 - x**4\n"
     ]
    }
   ],
   "source": [
    "for i in range(len(K)):\n",
    "    print(K[i])"
   ]
  },
  {
   "cell_type": "code",
   "execution_count": 35,
   "id": "69e46157",
   "metadata": {},
   "outputs": [
    {
     "name": "stdout",
     "output_type": "stream",
     "text": [
      "x**2 + 1\n",
      "x**3 + 1\n",
      "x**5 - x**4 + 1\n"
     ]
    }
   ],
   "source": [
    "for i in range(len(K)):\n",
    "    print(K[i]+1)"
   ]
  },
  {
   "cell_type": "code",
   "execution_count": 36,
   "id": "cc524f37",
   "metadata": {},
   "outputs": [
    {
     "name": "stdout",
     "output_type": "stream",
     "text": [
      "K entry : x**2   M entry : 3*x**5\n",
      "K entry : x**3   M entry : 2*x - 5\n",
      "K entry : x**5 - x**4   M entry : x**2\n"
     ]
    }
   ],
   "source": [
    "K = [x**2,x**3,x**5-x**4]\n",
    "M = [3*x**5,2*x-5,x**2]\n",
    "\n",
    "for i,j in zip(K,M):\n",
    "    print(\"K entry :\", i,\" \",\"M entry :\", j)"
   ]
  },
  {
   "cell_type": "code",
   "execution_count": 37,
   "id": "00cd74e7",
   "metadata": {},
   "outputs": [
    {
     "name": "stdout",
     "output_type": "stream",
     "text": [
      "K  1 . entry : x**2\n",
      "M  1 . entry : 3*x**5\n",
      "K  2 . entry : x**3\n",
      "M  2 . entry : 2*x - 5\n",
      "K  3 . entry : x**5 - x**4\n",
      "M  3 . entry : x**2\n"
     ]
    }
   ],
   "source": [
    "for p,(i,j) in enumerate(zip(K,M)):\n",
    "    print(\"K \",p+1,\". entry :\", i)\n",
    "    print(\"M \",p+1,\". entry :\", j)"
   ]
  },
  {
   "cell_type": "code",
   "execution_count": 38,
   "id": "226810a1",
   "metadata": {},
   "outputs": [
    {
     "data": {
      "text/latex": [
       "$\\displaystyle \\left[\\begin{matrix}23 & 43 & 122\\\\33 & 15 & 55\\\\35 & 16 & 19\\end{matrix}\\right]$"
      ],
      "text/plain": [
       "Matrix([\n",
       "[23, 43, 122],\n",
       "[33, 15,  55],\n",
       "[35, 16,  19]])"
      ]
     },
     "execution_count": 38,
     "metadata": {},
     "output_type": "execute_result"
    }
   ],
   "source": [
    "K = sp.Matrix([[23,43,122],[33,15,55],[35,16,19]])\n",
    "K"
   ]
  },
  {
   "cell_type": "code",
   "execution_count": 39,
   "id": "d22b15a3",
   "metadata": {},
   "outputs": [
    {
     "data": {
      "text/latex": [
       "$\\displaystyle 23$"
      ],
      "text/plain": [
       "23"
      ]
     },
     "execution_count": 39,
     "metadata": {},
     "output_type": "execute_result"
    }
   ],
   "source": [
    "K[0,0]"
   ]
  },
  {
   "cell_type": "code",
   "execution_count": 40,
   "id": "a9b3414a",
   "metadata": {},
   "outputs": [
    {
     "data": {
      "text/latex": [
       "$\\displaystyle 15$"
      ],
      "text/plain": [
       "15"
      ]
     },
     "execution_count": 40,
     "metadata": {},
     "output_type": "execute_result"
    }
   ],
   "source": [
    "K[1,1]"
   ]
  },
  {
   "cell_type": "code",
   "execution_count": 41,
   "id": "fd140b34",
   "metadata": {},
   "outputs": [
    {
     "data": {
      "text/plain": [
       "(3, 3)"
      ]
     },
     "execution_count": 41,
     "metadata": {},
     "output_type": "execute_result"
    }
   ],
   "source": [
    "K.shape"
   ]
  },
  {
   "cell_type": "code",
   "execution_count": 42,
   "id": "07b22adb",
   "metadata": {},
   "outputs": [
    {
     "name": "stdout",
     "output_type": "stream",
     "text": [
      "23\n",
      "43\n",
      "122\n",
      "33\n",
      "15\n",
      "55\n",
      "35\n",
      "16\n",
      "19\n"
     ]
    }
   ],
   "source": [
    "for i in range(3):\n",
    "    for j in range(3):\n",
    "        print(K[i,j])"
   ]
  },
  {
   "cell_type": "code",
   "execution_count": 43,
   "id": "85d1bb6e",
   "metadata": {},
   "outputs": [
    {
     "data": {
      "text/plain": [
       "[23, 43, 122, 33, 15, 55, 35, 16, 19]"
      ]
     },
     "execution_count": 43,
     "metadata": {},
     "output_type": "execute_result"
    }
   ],
   "source": [
    "[K[i,j] for i in range(3) for j in range(3)]"
   ]
  },
  {
   "cell_type": "code",
   "execution_count": 44,
   "id": "f082ed58",
   "metadata": {},
   "outputs": [
    {
     "data": {
      "text/plain": [
       "[[23, 43, 122], [33, 15, 55], [35, 16, 19]]"
      ]
     },
     "execution_count": 44,
     "metadata": {},
     "output_type": "execute_result"
    }
   ],
   "source": [
    "[[K[j,i] for i in range(3)] for j in range(3)] #WRONG"
   ]
  },
  {
   "cell_type": "code",
   "execution_count": 45,
   "id": "bfe39678",
   "metadata": {},
   "outputs": [
    {
     "data": {
      "text/latex": [
       "$\\displaystyle \\left[\\begin{matrix}23 & 43 & 122\\\\33 & 15 & 55\\\\35 & 16 & 19\\end{matrix}\\right]$"
      ],
      "text/plain": [
       "Matrix([\n",
       "[23, 43, 122],\n",
       "[33, 15,  55],\n",
       "[35, 16,  19]])"
      ]
     },
     "execution_count": 45,
     "metadata": {},
     "output_type": "execute_result"
    }
   ],
   "source": [
    "sp.Matrix([[K[i,j] for j in range(3)] for i in range(3)])"
   ]
  },
  {
   "cell_type": "code",
   "execution_count": 46,
   "id": "836962d7",
   "metadata": {},
   "outputs": [
    {
     "data": {
      "text/latex": [
       "$\\displaystyle \\left[\\begin{matrix}0 & 0 & 0\\\\0 & 0 & 0\\\\0 & 0 & 0\\end{matrix}\\right]$"
      ],
      "text/plain": [
       "Matrix([\n",
       "[0, 0, 0],\n",
       "[0, 0, 0],\n",
       "[0, 0, 0]])"
      ]
     },
     "execution_count": 46,
     "metadata": {},
     "output_type": "execute_result"
    }
   ],
   "source": [
    "M = sp.zeros(3,3)\n",
    "M"
   ]
  },
  {
   "cell_type": "code",
   "execution_count": 47,
   "id": "abfdb591",
   "metadata": {},
   "outputs": [
    {
     "data": {
      "text/latex": [
       "$\\displaystyle \\left[\\begin{matrix}23 & 43 & 122\\\\33 & 15 & 55\\\\35 & 16 & 19\\end{matrix}\\right]$"
      ],
      "text/plain": [
       "Matrix([\n",
       "[23, 43, 122],\n",
       "[33, 15,  55],\n",
       "[35, 16,  19]])"
      ]
     },
     "execution_count": 47,
     "metadata": {},
     "output_type": "execute_result"
    }
   ],
   "source": [
    "for i in range(3):\n",
    "    for j in range(3):\n",
    "        M[i,j] = K[i,j]\n",
    "        \n",
    "M"
   ]
  },
  {
   "cell_type": "code",
   "execution_count": 48,
   "id": "cf57f5cc",
   "metadata": {},
   "outputs": [
    {
     "data": {
      "text/plain": [
       "array([[ 23,  43, 122],\n",
       "       [ 33,  15,  55],\n",
       "       [ 35,  16,  19]])"
      ]
     },
     "execution_count": 48,
     "metadata": {},
     "output_type": "execute_result"
    }
   ],
   "source": [
    "import numpy as np\n",
    "\n",
    "np.asarray(M).astype(int)"
   ]
  }
 ],
 "metadata": {
  "kernelspec": {
   "display_name": "Python 3 (ipykernel)",
   "language": "python",
   "name": "python3"
  },
  "language_info": {
   "codemirror_mode": {
    "name": "ipython",
    "version": 3
   },
   "file_extension": ".py",
   "mimetype": "text/x-python",
   "name": "python",
   "nbconvert_exporter": "python",
   "pygments_lexer": "ipython3",
   "version": "3.9.12"
  }
 },
 "nbformat": 4,
 "nbformat_minor": 5
}
